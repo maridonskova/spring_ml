{
 "cells": [
  {
   "cell_type": "markdown",
   "metadata": {},
   "source": [
    "## Библиотека LightGBM"
   ]
  },
  {
   "cell_type": "markdown",
   "metadata": {},
   "source": [
    "Инструкция по запуску: каждая ячейка одну за одной. Ничего лишнего или недостающего нет."
   ]
  },
  {
   "cell_type": "code",
   "execution_count": 1,
   "metadata": {},
   "outputs": [],
   "source": [
    "import pandas as pd\n",
    "import numpy as np\n",
    "from sklearn import datasets\n",
    "\n",
    "from sklearn.metrics import roc_auc_score\n",
    "from sklearn.model_selection import train_test_split\n",
    "\n",
    "from tqdm import tqdm_notebook as tqdm_notebook\n",
    "import matplotlib.pyplot as plt\n",
    "from sklearn.neighbors import NearestNeighbors\n",
    "from sklearn.cluster import KMeans\n",
    "\n",
    "%matplotlib inline"
   ]
  },
  {
   "cell_type": "markdown",
   "metadata": {},
   "source": [
    "Для label кодирования признаков, отвечающих за классы услуги"
   ]
  },
  {
   "cell_type": "code",
   "execution_count": 2,
   "metadata": {},
   "outputs": [],
   "source": [
    "def encode_option(a):\n",
    "    if a == 'econom':\n",
    "        return 1\n",
    "    if a == 'business':\n",
    "        return 2\n",
    "    if a == 'vip':\n",
    "        return 3\n",
    "    else:\n",
    "        return 0"
   ]
  },
  {
   "cell_type": "markdown",
   "metadata": {},
   "source": [
    "# Обработаем данные\n",
    "Добавим признаки со временем и датой, сумму по классам и самое важное количество заказов в час, в радиусе 120 метров, в одну дату\n",
    "\n",
    "Лишнее удаляем"
   ]
  },
  {
   "cell_type": "code",
   "execution_count": 3,
   "metadata": {},
   "outputs": [],
   "source": [
    "train = pd.read_csv('train_data.csv')\n",
    "target = pd.read_csv('train_target.csv')\n",
    "test = pd.read_csv('test_data.csv')\n",
    "\n",
    "train['target'] = target"
   ]
  },
  {
   "cell_type": "code",
   "execution_count": 4,
   "metadata": {},
   "outputs": [
    {
     "data": {
      "text/html": [
       "<div>\n",
       "<style scoped>\n",
       "    .dataframe tbody tr th:only-of-type {\n",
       "        vertical-align: middle;\n",
       "    }\n",
       "\n",
       "    .dataframe tbody tr th {\n",
       "        vertical-align: top;\n",
       "    }\n",
       "\n",
       "    .dataframe thead th {\n",
       "        text-align: right;\n",
       "    }\n",
       "</style>\n",
       "<table border=\"1\" class=\"dataframe\">\n",
       "  <thead>\n",
       "    <tr style=\"text-align: right;\">\n",
       "      <th></th>\n",
       "      <th>dist</th>\n",
       "      <th>due</th>\n",
       "      <th>f_class</th>\n",
       "      <th>lat</th>\n",
       "      <th>lon</th>\n",
       "      <th>s_class</th>\n",
       "      <th>t_class</th>\n",
       "      <th>target</th>\n",
       "    </tr>\n",
       "  </thead>\n",
       "  <tbody>\n",
       "    <tr>\n",
       "      <td>0</td>\n",
       "      <td>5117.239228</td>\n",
       "      <td>2014-01-22 04:10:00.000</td>\n",
       "      <td>econom</td>\n",
       "      <td>55.669290</td>\n",
       "      <td>37.474336</td>\n",
       "      <td>business</td>\n",
       "      <td>NaN</td>\n",
       "      <td>0</td>\n",
       "    </tr>\n",
       "    <tr>\n",
       "      <td>1</td>\n",
       "      <td>3638.726690</td>\n",
       "      <td>2014-01-10 13:45:00.000</td>\n",
       "      <td>econom</td>\n",
       "      <td>55.807461</td>\n",
       "      <td>37.635045</td>\n",
       "      <td>business</td>\n",
       "      <td>NaN</td>\n",
       "      <td>0</td>\n",
       "    </tr>\n",
       "    <tr>\n",
       "      <td>2</td>\n",
       "      <td>15143.069693</td>\n",
       "      <td>2014-03-02 02:10:00.000</td>\n",
       "      <td>econom</td>\n",
       "      <td>55.741105</td>\n",
       "      <td>37.615821</td>\n",
       "      <td>NaN</td>\n",
       "      <td>NaN</td>\n",
       "      <td>1</td>\n",
       "    </tr>\n",
       "    <tr>\n",
       "      <td>3</td>\n",
       "      <td>-1.000000</td>\n",
       "      <td>2014-02-26 13:20:00.000</td>\n",
       "      <td>econom</td>\n",
       "      <td>55.625526</td>\n",
       "      <td>37.618543</td>\n",
       "      <td>NaN</td>\n",
       "      <td>NaN</td>\n",
       "      <td>1</td>\n",
       "    </tr>\n",
       "    <tr>\n",
       "      <td>4</td>\n",
       "      <td>4708.142572</td>\n",
       "      <td>2014-01-21 19:45:00.000</td>\n",
       "      <td>business</td>\n",
       "      <td>55.813167</td>\n",
       "      <td>37.597863</td>\n",
       "      <td>NaN</td>\n",
       "      <td>NaN</td>\n",
       "      <td>0</td>\n",
       "    </tr>\n",
       "  </tbody>\n",
       "</table>\n",
       "</div>"
      ],
      "text/plain": [
       "           dist                      due   f_class        lat        lon  \\\n",
       "0   5117.239228  2014-01-22 04:10:00.000    econom  55.669290  37.474336   \n",
       "1   3638.726690  2014-01-10 13:45:00.000    econom  55.807461  37.635045   \n",
       "2  15143.069693  2014-03-02 02:10:00.000    econom  55.741105  37.615821   \n",
       "3     -1.000000  2014-02-26 13:20:00.000    econom  55.625526  37.618543   \n",
       "4   4708.142572  2014-01-21 19:45:00.000  business  55.813167  37.597863   \n",
       "\n",
       "    s_class t_class  target  \n",
       "0  business     NaN       0  \n",
       "1  business     NaN       0  \n",
       "2       NaN     NaN       1  \n",
       "3       NaN     NaN       1  \n",
       "4       NaN     NaN       0  "
      ]
     },
     "execution_count": 4,
     "metadata": {},
     "output_type": "execute_result"
    }
   ],
   "source": [
    "train.head()"
   ]
  },
  {
   "cell_type": "code",
   "execution_count": 4,
   "metadata": {},
   "outputs": [
    {
     "data": {
      "application/vnd.jupyter.widget-view+json": {
       "model_id": "9e43c4b7155e411e8609e9e0732a8e4b",
       "version_major": 2,
       "version_minor": 0
      },
      "text/plain": [
       "HBox(children=(IntProgress(value=0, max=2), HTML(value='')))"
      ]
     },
     "metadata": {},
     "output_type": "display_data"
    },
    {
     "name": "stdout",
     "output_type": "stream",
     "text": [
      "\n"
     ]
    }
   ],
   "source": [
    "array = []\n",
    "for data in tqdm_notebook((train, test)):\n",
    "    \n",
    "    data.loc[:,'time_as_str'] = data['due'].apply(lambda x: x[x.find(' ') + 1:-4])\n",
    "    data.loc[:, 'time_in_seconds'] = pd.to_timedelta(data['time_as_str']).dt.total_seconds()\n",
    "    \n",
    "    #признаки со временем и датой: дата, час, минуты, месяц, день недели кодированный\n",
    "    \n",
    "    data['due'] = pd.to_datetime(data['due'])\n",
    "    data['date'] = data['due'].dt.date\n",
    "    data['hour'] = data['due'].dt.hour\n",
    "    data['weekday'] = data['due'].dt.weekday\n",
    "    \n",
    "    for method in ('date', 'hour','weekday', 'minute', 'month'):\n",
    "        data[method] = getattr(data['due'].dt, method)\n",
    "        \n",
    "    #сложим признаки, отвечающие за классы\n",
    "    \n",
    "    for option in ('f', 's', 't'):\n",
    "        data[option] = data.loc[:, option + '_class'].apply(encode_option)\n",
    "    data['sum'] = data['f'] + data['s'] + data['t']\n",
    "\n",
    "    array.append(data.copy(deep = True))\n"
   ]
  },
  {
   "cell_type": "code",
   "execution_count": 5,
   "metadata": {},
   "outputs": [],
   "source": [
    "arr =[]\n",
    "#важный признак, количество заказов в одну дату в круге радиусом 110 метро(округление до 2 знаков лат и лон) в час\n",
    "train, test = array[0], array[1]\n",
    "for data in (train, test):\n",
    "    for coords in ('lat', 'lon'):\n",
    "        data[coords + '_round'] = round(data[coords],3)\n",
    "    data['index'] = data.index \n",
    "    \n",
    "    df = data.groupby(['lat_round','lon_round', 'date', 'hour'], as_index = False).agg({'index': 'count'})\n",
    "    df = pd.DataFrame(df)\n",
    "    data_ = pd.merge(data, df,  how='left', left_on=['lat_round','lon_round', 'date', 'hour'],\n",
    "                      right_on = ['lat_round','lon_round', 'date', 'hour'])\n",
    "    \n",
    "    data_.drop(['date','time_as_str','hour', 'due',\n",
    "               't', 'f', 's', 'f_class', 's_class', 't_class'], axis=1, inplace=True)\n",
    "    \n",
    "    arr.append(data_.copy(deep = True))\n",
    "\n",
    "train, test = arr[0], arr[1]"
   ]
  },
  {
   "cell_type": "code",
   "execution_count": 6,
   "metadata": {},
   "outputs": [
    {
     "data": {
      "text/plain": [
       "Index(['dist', 'lat', 'lon', 'time_in_seconds', 'weekday', 'minute', 'month',\n",
       "       'sum', 'lat_round', 'lon_round', 'index_x', 'index_y'],\n",
       "      dtype='object')"
      ]
     },
     "execution_count": 6,
     "metadata": {},
     "output_type": "execute_result"
    }
   ],
   "source": [
    "test.columns"
   ]
  },
  {
   "cell_type": "markdown",
   "metadata": {},
   "source": [
    "# Кластеризация \n",
    "кластеризуем и добавим признаки расстояние до центра кластера и номер кластера"
   ]
  },
  {
   "cell_type": "code",
   "execution_count": 7,
   "metadata": {},
   "outputs": [],
   "source": [
    "def clust(train, test):\n",
    "    model = KMeans(n_clusters=5, n_jobs=-1)\n",
    "    model.fit(train[['lat', 'lon']])\n",
    "    \n",
    "    for data in (train, test):\n",
    "        data['clust'] =  model.predict(data[['lat', 'lon']])\n",
    "        data['dist_clust'] = model.transform(data[['lat', 'lon']]).min(axis=1)\n",
    "    \n",
    "    plt.scatter(test.loc[:, 'lon'], test.loc[:, 'lat'], c=test['clust'], cmap='viridis')\n",
    "    centers = model.cluster_centers_\n",
    "    plt.scatter(centers[:, 1], centers[:, 0], c='black', alpha=0.5)\n"
   ]
  },
  {
   "cell_type": "code",
   "execution_count": null,
   "metadata": {},
   "outputs": [],
   "source": [
    "clust(train, test)"
   ]
  },
  {
   "cell_type": "code",
   "execution_count": null,
   "metadata": {},
   "outputs": [],
   "source": [
    "feature_columns = train.columns.tolist()\n",
    "feature_columns.pop(feature_columns.index('target'))\n",
    "\n",
    "target_column = ['target']"
   ]
  },
  {
   "cell_type": "markdown",
   "metadata": {},
   "source": [
    "# Модель"
   ]
  },
  {
   "cell_type": "code",
   "execution_count": null,
   "metadata": {},
   "outputs": [],
   "source": [
    "train__, val__ = train_test_split(train, test_size = 0.3)"
   ]
  },
  {
   "cell_type": "code",
   "execution_count": null,
   "metadata": {},
   "outputs": [],
   "source": [
    "train__"
   ]
  },
  {
   "cell_type": "code",
   "execution_count": null,
   "metadata": {},
   "outputs": [],
   "source": [
    "from lightgbm import LGBMClassifier \n",
    "\n",
    "clf = LGBMClassifier(n_estimators=100, learning_rate=0.05, num_leaves=63)\n",
    "clf.fit(\n",
    "    train__[feature_columns], train__[target_column].values.ravel(),\n",
    "    eval_set=[(val__[feature_columns], val__[target_column].values.ravel())],\n",
    "    eval_metric='auc',\n",
    "    verbose=True,\n",
    "    early_stopping_rounds=200,\n",
    ")"
   ]
  },
  {
   "cell_type": "markdown",
   "metadata": {},
   "source": [
    "## Обучение на всем трейне"
   ]
  },
  {
   "cell_type": "code",
   "execution_count": null,
   "metadata": {},
   "outputs": [],
   "source": [
    "from lightgbm import LGBMClassifier \n",
    "\n",
    "clf = LGBMClassifier(n_estimators=1200, learning_rate=0.05, num_leaves=63)\n",
    "clf.fit(train[feature_columns], train[target_column].values.ravel())"
   ]
  },
  {
   "cell_type": "code",
   "execution_count": null,
   "metadata": {},
   "outputs": [],
   "source": [
    "sorted(zip(clf.feature_importances_, feature_columns))"
   ]
  },
  {
   "cell_type": "code",
   "execution_count": null,
   "metadata": {},
   "outputs": [],
   "source": [
    "predict = clf.predict_proba(test[feature_columns])"
   ]
  },
  {
   "cell_type": "code",
   "execution_count": null,
   "metadata": {},
   "outputs": [],
   "source": [
    "predict.shape"
   ]
  },
  {
   "cell_type": "code",
   "execution_count": null,
   "metadata": {},
   "outputs": [],
   "source": [
    "pd.DataFrame(data={\"target\": predict[:, 1]}, index=test.index).to_csv(\"10.csv\", index_label='index')"
   ]
  },
  {
   "cell_type": "markdown",
   "metadata": {},
   "source": [
    "### На валидации: 0.730788\n",
    "### На тест из Kaggle: 0.73439"
   ]
  },
  {
   "cell_type": "code",
   "execution_count": null,
   "metadata": {},
   "outputs": [],
   "source": []
  }
 ],
 "metadata": {
  "kernelspec": {
   "display_name": "Python 3",
   "language": "python",
   "name": "python3"
  },
  "language_info": {
   "codemirror_mode": {
    "name": "ipython",
    "version": 3
   },
   "file_extension": ".py",
   "mimetype": "text/x-python",
   "name": "python",
   "nbconvert_exporter": "python",
   "pygments_lexer": "ipython3",
   "version": "3.7.4"
  }
 },
 "nbformat": 4,
 "nbformat_minor": 2
}
